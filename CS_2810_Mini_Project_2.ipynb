{
  "cells": [
    {
      "cell_type": "markdown",
      "metadata": {
        "id": "view-in-github",
        "colab_type": "text"
      },
      "source": [
        "<a href=\"https://colab.research.google.com/github/BillQK/CS2810-Mini-Project/blob/main/CS_2810_Mini_Project_2.ipynb\" target=\"_parent\"><img src=\"https://colab.research.google.com/assets/colab-badge.svg\" alt=\"Open In Colab\"/></a>"
      ]
    },
    {
      "cell_type": "markdown",
      "source": [
        "WRITE YOUR NAME HERE"
      ],
      "metadata": {
        "id": "Evfh5c9ufZqx"
      }
    },
    {
      "cell_type": "markdown",
      "metadata": {
        "id": "dEA-8G5rHbfn"
      },
      "source": [
        "# Mini Project 2\n",
        "\n",
        "Complete the Jupyter Notebook below working with a group of two to four students. Each student should submit their own Jupyter Notebook (this .ipynb file, after answering all questions within it) to [gradescope](https://www.gradescope.com/courses/).  While you may submit your work to gradescope anytime until **April 12 (Section 3) or April 13 (Sections 1 and 2) @ 11:59PM** my expectation is that most groups are able to complete the work and submit before the end of class today.\n",
        "\n",
        "### Expectation:\n",
        "You are not expected to write any code, but you will be asked to read and interpret code that you may never have seen before. Do not be afraid to ask for help from group mates, TAs or the professor.\n",
        "\n",
        "### Instructions:\n",
        "Click the \"play\" button in the code cell below. This \"runs\" the code. Any output will be displayed below the cell. You will be asked to this a few times in this Mini-Project. All answers will be written in cells like this, which can double-click to edit. Such cells are already provided (you do not need to create them) and currently say \"respond-here-please\"."
      ]
    },
    {
      "cell_type": "code",
      "source": [
        "# The below are some python modules that will be useful\n",
        "import pandas as pd\n",
        "import numpy as np\n",
        "import matplotlib.pyplot as plt\n",
        "import seaborn as sns"
      ],
      "metadata": {
        "id": "btwJ7tee7y3F"
      },
      "execution_count": null,
      "outputs": []
    },
    {
      "cell_type": "markdown",
      "metadata": {
        "id": "s6ScRAq0Hbft"
      },
      "source": [
        "# Part 1: School Lunch Markov Chain (30 points)\n",
        "\n",
        "Every day, Nicole's mother packs her a lunch for school. She always receives an apple or a banana. She kept track last year of which days she received each, and recorded them in a data set: ([source](https://github.com/eaegerber/data/blob/main/schoollunch.csv))."
      ]
    },
    {
      "cell_type": "markdown",
      "metadata": {
        "id": "BHT-IN38Hbfx"
      },
      "source": [
        "## Part 1.1\n",
        "Nicole wants to build a Markov Chain so that she can predict whether she is going to receive an apple or banana each day of the next school year. First she must use the data she collected to estimate the transition probabilities for her Markov Chain. She writes the below code.\n",
        "\n",
        "Read through each of the following four cells, reading the comments (everything in after a pound sign (`#`) is a comment), and then determine if Nicole has done everything correctly. **You will want to read the last cell very carefully, and perhaps write out by hand the Markov Chain to help.**\n",
        "\n",
        "In the fifth cell, where it says \"respond-here-please\", discuss in a few sentences the mistake Nicole made. **Then fix it.**"
      ]
    },
    {
      "cell_type": "code",
      "source": [
        "url = 'https://raw.githubusercontent.com/eaegerber/data/main/schoollunch.csv'\n",
        "schoollunch = pd.read_csv(url)\n",
        "\n",
        "# cleaning data\n",
        "schoollunch = np.array(schoollunch['x'])\n",
        "\n",
        "# get the total number of days with apples and bananas\n",
        "print(pd.value_counts(schoollunch))"
      ],
      "metadata": {
        "id": "CQxCafTtj3ls"
      },
      "execution_count": null,
      "outputs": []
    },
    {
      "cell_type": "code",
      "source": [
        "# get the number of days with apples and bananas AFTER an apple day\n",
        "print(pd.value_counts(schoollunch[(np.where(schoollunch == 'A')[0]+1)[:-1]]))"
      ],
      "metadata": {
        "id": "p98tbd5F3zY4"
      },
      "execution_count": null,
      "outputs": []
    },
    {
      "cell_type": "code",
      "source": [
        "# get the number of days with apples and bananas AFTER a banana day\n",
        "print(pd.value_counts(schoollunch[np.where(schoollunch == 'B')[0]+1]))"
      ],
      "metadata": {
        "id": "9ql5XI5w4e5y"
      },
      "execution_count": null,
      "outputs": []
    },
    {
      "cell_type": "code",
      "source": [
        "# transition probabilities\n",
        "p_aa = 99/(99+29) #probability of staying apple\n",
        "p_ba = 30/(30+21) #probability of going to apple from banana\n",
        "p_ab = 29/(99+29) #probability of going to banana from apple\n",
        "p_bb = 21/(30+21) #probability of staying banana\n",
        "\n",
        "# transition matrix?\n",
        "t_mat = np.array([[p_aa, p_ab], [p_bb, p_ba]])\n",
        "print(t_mat)\n",
        "\n"
      ],
      "metadata": {
        "id": "Gry88VI74gSz"
      },
      "execution_count": null,
      "outputs": []
    },
    {
      "cell_type": "markdown",
      "metadata": {
        "id": "MUiN2q8tHbfx"
      },
      "source": [
        "respond-here-please"
      ]
    },
    {
      "cell_type": "markdown",
      "metadata": {
        "id": "ynD3XyBgHbfy"
      },
      "source": [
        "## Part 1.2\n",
        "After the first week of school during the new year, Nicole has received four apples and one banana: $\\begin{bmatrix} A \\\\ B \\end{bmatrix} = \\begin{bmatrix} 4 \\\\ 1 \\end{bmatrix}$. \n",
        "\n",
        "Using the corrected transition matrix, Nicole wants to predict what she'll get in her lunch on Monday (the first day of next week). She performs the operations in the cell below, and decides that since the final vector would be rounded to $\\begin{bmatrix} 4 \\\\ 2 \\end{bmatrix}$, she is more likely to receive a banana than an apple on Monday.\n",
        "\n",
        "Discuss if this makes sense to you, explaining why or why not."
      ]
    },
    {
      "cell_type": "code",
      "source": [
        "# first week distribution\n",
        "week1 = np.array([[4], [1]])\n",
        "\n",
        "#.dot() function does matrix vector multiplication of matrix.dot(vector)\n",
        "print(t_mat.dot(week1)) # distribution on Monday w/o scaling for additional day\n",
        "\n",
        "print(t_mat.dot(week1)/np.sum(t_mat.dot(week1)) * 6) # distribution on Monday scaling for additional day"
      ],
      "metadata": {
        "id": "QOoi3TrPj9pg"
      },
      "execution_count": null,
      "outputs": []
    },
    {
      "cell_type": "markdown",
      "metadata": {
        "id": "FAlJoqv7Hbfz"
      },
      "source": [
        "respond-here-please"
      ]
    },
    {
      "cell_type": "markdown",
      "metadata": {
        "id": "0M2Kr0pvHbf0"
      },
      "source": [
        "## Part 1.3\n",
        "Nicole is interested what the steady state probability distribution of her Markov Chain is. She performs the calculation in the cells below (she does this correctly).\n",
        "\n",
        "Based on the raw data, should Nicole be surprised by this steady state distribution? Explain why or why not. **Hint:** it may be helpful to multiply the steady state probability vector by 180, the number of days in the original data set."
      ]
    },
    {
      "cell_type": "code",
      "source": [
        "# eigenvalues and eigenvectors\n",
        "eigens = np.linalg.eig(t_mat)\n",
        "\n",
        "print(eigens[0]) #eigenvalues\n",
        "print(eigens[1]) #eigenvectors"
      ],
      "metadata": {
        "id": "y3Q5EMs17X9J"
      },
      "execution_count": null,
      "outputs": []
    },
    {
      "cell_type": "code",
      "source": [
        "# steady state (using eigenvector corresponding to eigenvalue of 1)\n",
        "x_ss = eigens[1][:,0]/(np.sum(eigens[1][:,0]))\n",
        "print(x_ss)"
      ],
      "metadata": {
        "id": "oOaAruuA1qvY"
      },
      "execution_count": null,
      "outputs": []
    },
    {
      "cell_type": "markdown",
      "metadata": {
        "id": "rylQ0TWzHbf1"
      },
      "source": [
        "respond-here-please"
      ]
    },
    {
      "cell_type": "markdown",
      "metadata": {
        "id": "pPXEMxLjHbf1"
      },
      "source": [
        "# Part 2: Income vs. Happiness Linear Regression (40 points)\n",
        "\n",
        "There's an old saying that money can't buy happiness (or, inversely, as the Notorious B.I.G. might say, mo money mo problems). A researcher is interested in if this is true. They collect some data on person's income and their happiness level, and tries to (a) determine what the relationship between them is and (b) determine if you can predict happiness with income.\n",
        "\n",
        "The researcher does this via a linear regression model, using the code below. Read through the code/output of the model and then answer the following questions."
      ]
    },
    {
      "cell_type": "code",
      "execution_count": null,
      "metadata": {
        "scrolled": true,
        "id": "ZNcU1nlIHbf2"
      },
      "outputs": [],
      "source": [
        "url2 = 'https://raw.githubusercontent.com/eaegerber/data/main/income.data.csv'\n",
        "df_income = pd.read_csv(url2)\n",
        "df_income.head()"
      ]
    },
    {
      "cell_type": "code",
      "execution_count": null,
      "metadata": {
        "id": "0bTqxvpXHbf4"
      },
      "outputs": [],
      "source": [
        "income_lm = np.polyfit(df_income[\"income\"], df_income[\"happiness\"], 1)\n",
        "\n",
        "# reminder: this prints the slope first\n",
        "print(income_lm)"
      ]
    },
    {
      "cell_type": "code",
      "execution_count": null,
      "metadata": {
        "scrolled": false,
        "id": "qPQ7jzx7Hbf5"
      },
      "outputs": [],
      "source": [
        "residuals  = df_income['happiness'] - (income_lm[1] + income_lm[0]*df_income['income'])"
      ]
    },
    {
      "cell_type": "code",
      "source": [
        "plt.scatter(df_income['income'], residuals, alpha=0.5)\n",
        "plt.xlabel(\"income (scaled)\")\n",
        "plt.ylabel(\"residuals\")\n",
        "plt.title(\"residual plot vs. x values\")\n",
        "plt.show()"
      ],
      "metadata": {
        "id": "DnnNmAq-_Tl3"
      },
      "execution_count": null,
      "outputs": []
    },
    {
      "cell_type": "code",
      "source": [
        "plt.scatter(range(len(df_income['income'])), residuals, alpha=0.5)\n",
        "plt.xlabel(\"index\")\n",
        "plt.ylabel(\"residuals\")\n",
        "plt.title(\"residual plot vs. order\")\n",
        "plt.show()"
      ],
      "metadata": {
        "id": "bIAztKg5_Tu2"
      },
      "execution_count": null,
      "outputs": []
    },
    {
      "cell_type": "code",
      "source": [
        "sns.histplot(residuals, kde=False)\n",
        "plt.xlabel(\"residuals\")\n",
        "plt.title(\"histogram of residuals\")\n",
        "plt.show()"
      ],
      "metadata": {
        "id": "K6pBriUi_Tzv"
      },
      "execution_count": null,
      "outputs": []
    },
    {
      "cell_type": "code",
      "source": [
        "predictions = income_lm[1] + income_lm[0]*df_income['income']\n",
        "df_income['happiness'].corr(predictions)"
      ],
      "metadata": {
        "id": "9aM98fWd_T87"
      },
      "execution_count": null,
      "outputs": []
    },
    {
      "cell_type": "code",
      "source": [
        "df_income['happiness'].corr(predictions)**2"
      ],
      "metadata": {
        "id": "9Q8u90Y5AQOn"
      },
      "execution_count": null,
      "outputs": []
    },
    {
      "cell_type": "markdown",
      "source": [
        "##Part 2.1\n",
        "Discuss firstly, in a few sentences, whether you believe linear regression model is appropriate for analyzing these data based on the plots presented. Make sure to note if all four of the following assumptions seem justified, and how you know:\n",
        "\n",
        "- Linearity\n",
        "- Independence\n",
        "- Normality\n",
        "- Constant Standard Deviation"
      ],
      "metadata": {
        "id": "QuyN0DOxwjXj"
      }
    },
    {
      "cell_type": "markdown",
      "source": [
        "respond-here-please"
      ],
      "metadata": {
        "id": "CLai55mExYLk"
      }
    },
    {
      "cell_type": "markdown",
      "metadata": {
        "id": "A98Riha-Hbf5"
      },
      "source": [
        "## Part 2.2\n",
        "Interpret both the intercept and slope in the context of the problem. \n",
        "\n",
        "**Note** that the two variables (`income` and `happiness`) are on non-intuitive scales; simply use generic \"units\" when discussing them (i.e. observation one has 3.86 income units and 2.31 happiness units)."
      ]
    },
    {
      "cell_type": "markdown",
      "metadata": {
        "id": "7zIawh0uHbf5"
      },
      "source": [
        "respond-here-please"
      ]
    },
    {
      "cell_type": "markdown",
      "metadata": {
        "id": "pll0d_OgHbf6"
      },
      "source": [
        "## Part 2.3\n",
        "Report $R^2$ as a percentage and interpret it in the context of the problem. Is this a good $R^2$ value? What does it mean?"
      ]
    },
    {
      "cell_type": "markdown",
      "metadata": {
        "id": "EoPMwsrqHbf6"
      },
      "source": [
        "respond-here-please"
      ]
    },
    {
      "cell_type": "markdown",
      "metadata": {
        "id": "1ZVvqjNhHbf6"
      },
      "source": [
        "## Part 2.4\n",
        "Based on these data, make a final conclusion about whether the model is useful, and whether (assuming that the data are real and representative of the population) if the data tend to support (or do not support) the statement that money can't buy happiness?"
      ]
    },
    {
      "cell_type": "markdown",
      "metadata": {
        "id": "jv-Ik2fqHbf7"
      },
      "source": [
        "respond-here-please"
      ]
    },
    {
      "cell_type": "markdown",
      "metadata": {
        "id": "xCdfAqK4Hbf7"
      },
      "source": [
        "# Part 3: Design a Bayes Net (30 points)\n",
        "In this part, you will come up with a problem suitable for analysis via a Bayes Net on a topic of your choosing. You must:\n",
        "\n",
        "- design a Bayesian network on three or four nodes\n",
        "    - too many nodes and the joint distribution table has too many rows ...\n",
        "- ask 2 questions which build towards some intuition\n",
        "    - demonstrate / explain a conditional independence relationship\n",
        "    - demonstrate some intuition encapsulated in the network:\n",
        "        - e.g. in HW9 Problem 6: \"defending a basketball shot decreases the expected points earned\"\n",
        "\n",
        "Your submission should include 4 items:\n",
        "- a description of the variables and their possible values in the network\n",
        "  - the image of the Bayes net (see below)\n",
        "- the two questions you wish to answer using the Bayes net\n",
        "  - the set up to the solutions (in algebraic form, with probability statements) of the questions using information from the network"
      ]
    },
    {
      "cell_type": "markdown",
      "source": [
        "##Part 3.1(a)\n",
        "Describe your Bayesian Network in the first cell below and then include an image of the Bayes net in the second cell. The instructions for how to do this are in the second cell below."
      ],
      "metadata": {
        "id": "tPjuozt8Eil2"
      }
    },
    {
      "cell_type": "markdown",
      "source": [
        "respond-here-please"
      ],
      "metadata": {
        "id": "xtQZic7hEiqR"
      }
    },
    {
      "cell_type": "markdown",
      "source": [
        "##Part 3.1(b): Uploading an image into a jupyter notebook\n",
        "To create the image of your bayes net\n",
        "- generate an image:\n",
        "    - draw one and take a picture with your phone\n",
        "        - cam scanner please\n",
        "    - build it on the computer\n",
        "    - draw on a tablet\n",
        "\n",
        "**Note**: the below has not been working for some students; if it does not work for you, please simply upload your image with the .ipynb file when you submit to Gradescope.\n",
        "\n",
        "- upload into the notebook by:\n",
        "    - uploading your image to [https://imgbb.com/](https://imgbb.com/)\n",
        "    - double clicking this jupyter cell\n",
        "    - replacing the hyperlink below with a hyperlink to your image\n",
        "        - (should have similar format as the example given)\n",
        "        - try right clicking \"copy image address\" or similar\n",
        "\n",
        "<img src=\"https://i.ibb.co/6rLKcSy/bayes-basketball.png\" width=400px>"
      ],
      "metadata": {
        "id": "0jL5OepGEivm"
      }
    },
    {
      "cell_type": "markdown",
      "source": [
        "##Part 3.2\n",
        "Ask your two questions in each of the two cells below, and provide the entire operation using probability statement(s) needed to calculate the answer to the question you've come up with.\n",
        "\n",
        "For example, if you ask what is the probability that (using the example from HW9) a basketball player makes a 2-point shot when defended, you would find:\n",
        "\n",
        "$$P(M_1,R_2|D_1) = P(M_1|D_1,R_2)P(R_2)$$\n",
        "\n",
        "Or, if you ask if defending a basketball shot decreases the expected points earned, you would find:\n",
        "\n",
        "$$E(P|D_1) - E(P|D_0)$$\n",
        "\n",
        "where, $E(P|D_i) = 0P(P_0|D_i) + 2P(P_2|D_i) + 3P(P_3|D_i)$\n",
        "\n",
        "and $P(P_j|D_i) = \\sum_{M,R} P(P_j|M,R) P(M,R|D_i)$"
      ],
      "metadata": {
        "id": "82qSttfhEi0c"
      }
    },
    {
      "cell_type": "markdown",
      "source": [
        "respond-here-please (question 1)"
      ],
      "metadata": {
        "id": "NcThQxk1EjUU"
      }
    },
    {
      "cell_type": "markdown",
      "source": [
        "respond-here-please (question 2)"
      ],
      "metadata": {
        "id": "29CgXVa9HUUU"
      }
    }
  ],
  "metadata": {
    "kernelspec": {
      "display_name": "Python 3 (ipykernel)",
      "language": "python",
      "name": "python3"
    },
    "language_info": {
      "codemirror_mode": {
        "name": "ipython",
        "version": 3
      },
      "file_extension": ".py",
      "mimetype": "text/x-python",
      "name": "python",
      "nbconvert_exporter": "python",
      "pygments_lexer": "ipython3",
      "version": "3.8.10"
    },
    "colab": {
      "provenance": [],
      "include_colab_link": true
    }
  },
  "nbformat": 4,
  "nbformat_minor": 0
}